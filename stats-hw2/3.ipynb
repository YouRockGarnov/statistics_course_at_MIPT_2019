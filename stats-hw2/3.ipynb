{
  "cells": [
    {
      "cell_type": "code",
      "execution_count": null,
      "metadata": {
        "collapsed": true,
        "pycharm": {}
      },
      "outputs": [],
      "source": "import numpy as np\nimport matplotlib.pyplot as plt\nimport scipy.stats as sps\nimport pandas as pd\nfrom scipy.special import factorial\n%matplotlib inline\n\nrandvar_count \u003d 10\nsample_count \u003d 1\nK \u003d 100\n"
    },
    {
      "cell_type": "markdown",
      "source": "Условие - https://drive.google.com/open?id\u003d13rYyMotOtFTeZBSXwOLOwNBmB9yXjdBY#%%\n",
      "metadata": {
        "pycharm": {
          "metadata": false
        }
      }
    },
    {
      "cell_type": "code",
      "execution_count": null,
      "outputs": [],
      "source": "У нас есть нулевые значения (мы используем логарифмическую функцию правдоподобия,\nа log(0*smth) неопределён), поэтому изменим нулевые значения на 0.0001 - это никак не влияет на результат, \nибо у нас шаг 0.001.\n",
      "metadata": {
        "pycharm": {
          "metadata": false,
          "name": "#%%\n"
        }
      }
    },
    {
      "cell_type": "code",
      "execution_count": null,
      "outputs": [],
      "source": "sample \u003d [item + 0.0001 if item \u003d\u003d 0 else item for item in np.array(pd.read_csv(\u0027Weibull.csv\u0027).values)]\n",
      "metadata": {
        "pycharm": {
          "metadata": false,
          "name": "#%%\n"
        }
      }
    },
    {
      "cell_type": "markdown",
      "source": "likelyhood() - это функция правдоподобия.\n",
      "metadata": {
        "pycharm": {
          "metadata": false
        }
      }
    },
    {
      "cell_type": "code",
      "execution_count": null,
      "outputs": [],
      "source": "def likelyhood(x, gamma):\n    return np.sum(np.log(gamma * (x ** (gamma - 1)) * np.exp(-x ** gamma)))\n",
      "metadata": {
        "pycharm": {
          "metadata": false,
          "name": "#%%\n"
        }
      }
    },
    {
      "cell_type": "markdown",
      "source": "В find_emitter_pos() я ищу argmax функции правдоподобия у половины выборки за 4 года\nи у всей.\n",
      "metadata": {
        "pycharm": {
          "metadata": false
        }
      }
    },
    {
      "cell_type": "code",
      "execution_count": null,
      "outputs": [],
      "source": "def estimate_parameter():\n    for n in [365 * 4, len(sample)]:\n        net \u003d np.logspace(-2, 2, 4000)\n        rec_value \u003d likelyhood(sample[:n], net[0])\n        argmax \u003d net[0]\n        for gamma in net:\n            Lp \u003d likelyhood(sample[:n], gamma)\n            if Lp \u003e rec_value:\n                argmax \u003d gamma\n                rec_value \u003d Lp\n        \n        print(\u0027Оценка макс. правдоподобия (n \u003d {0}) \u003d {1}\u0027.format(n, argmax))\n    \nestimate_parameter()\n",
      "metadata": {
        "pycharm": {
          "metadata": false,
          "name": "#%%\n"
        }
      }
    },
    {
      "cell_type": "markdown",
      "source": "Как мы можем увидеть, оценка максимального правдоподобия для 4х лет и всей\nотличается меньше чем на 0.01.",
      "metadata": {
        "pycharm": {
          "metadata": false
        }
      }
    }
  ],
  "metadata": {
    "language_info": {
      "codemirror_mode": {
        "name": "ipython",
        "version": 2
      },
      "file_extension": ".py",
      "mimetype": "text/x-python",
      "name": "python",
      "nbconvert_exporter": "python",
      "pygments_lexer": "ipython2",
      "version": "2.7.6"
    },
    "kernelspec": {
      "name": "python3",
      "language": "python",
      "display_name": "Python 3"
    }
  },
  "nbformat": 4,
  "nbformat_minor": 0
}