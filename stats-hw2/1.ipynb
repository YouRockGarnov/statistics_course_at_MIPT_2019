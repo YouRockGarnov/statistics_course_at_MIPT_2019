{
  "cells": [
    {
      "cell_type": "code",
      "execution_count": 14,
      "metadata": {
        "collapsed": true,
        "pycharm": {
          "is_executing": false
        }
      },
      "outputs": [],
      "source": "import numpy as np\nimport matplotlib.pyplot as plt\nimport scipy.stats as sps\nimport pandas\nfrom scipy.special import factorial\n%matplotlib inline\n\nrandvar_count \u003d 10\nsample_count \u003d 1\nK \u003d 100\n"
    },
    {
      "cell_type": "markdown",
      "source": "Условие - https://drive.google.com/open?id\u003d13rYyMotOtFTeZBSXwOLOwNBmB9yXjdBY\n",
      "metadata": {
        "pycharm": {
          "metadata": false,
          "name": "#%% md\n"
        }
      }
    },
    {
      "cell_type": "code",
      "execution_count": 15,
      "outputs": [
        {
          "traceback": [
            "\u001b[1;36m  File \u001b[1;32m\"\u003cipython-input-15-fdde8ee0089b\u003e\"\u001b[1;36m, line \u001b[1;32m7\u001b[0m\n\u001b[1;33m    def gen_distributions() -\u003e dict:\u001b[0m\n\u001b[1;37m      ^\u001b[0m\n\u001b[1;31mIndentationError\u001b[0m\u001b[1;31m:\u001b[0m expected an indented block\n"
          ],
          "ename": "IndentationError",
          "evalue": "expected an indented block (\u003cipython-input-15-fdde8ee0089b\u003e, line 7)",
          "output_type": "error"
        }
      ],
      "source": "distribution_key \u003d \u0027dist\u0027\nparams \u003d \u0027params\u0027\n\ndef get_norm_estimator(array):\n    return [(array[:n].mean(), (array[:n]**2).mean() - array[:n].mean()**2) for n in range(1, randvar_count)]\n\ndef gen_distributions() -\u003e dict:\n    result \u003d {}\n    result[\u0027$N(a,\\,\\sigma^{2})$\u0027] \u003d {distribution_key: sps.norm.rvs(size\u003drandvar_count)}\n    # result[\u0027$\\Gamma(\\alpha, \\lambda)$\u0027] \u003d sps.gamma.rvs(size\u003d(sample_count, randvar_count))\n    # result[\u0027$R(a, b)$\u0027] \u003d sps.uniform.rvs(size\u003d(sample_count, randvar_count))\n    # result[\u0027$Pois(\\lambda)$\u0027] \u003d sps.poisson.rvs(size\u003d(sample_count, randvar_count))\n    # result[\u0027$Bin(m, p)$\u0027] \u003d sps.binom.rvs(size\u003d(sample_count, randvar_count))\n    # result[\u0027$Geom(p)$\u0027] \u003d sps.geom.rvs(size\u003d(sample_count, randvar_count))\n    # result[\u0027$Beta(\\lambda_{1}, \\lambda_{2})$\u0027] \u003d sps.beta.rvs(size\u003d(sample_count, randvar_count))\n    \n    distribution \u003d result[\u0027$N(a,\\,\\sigma^{2})$\u0027][distribution_key]\n    result[\u0027$N(a,\\,\\sigma^{2})$\u0027][params] \u003d [get_norm_estimator(distribution)]\n    \n    return result\n    \ndef get_param_bootstrep(distribution, params):\n    return [distribution(loc\u003dparams[n][0], scale\u003dparams[n][1]**0.5 if len(params[n]) \u003e 1 else None).rvs((K, n)) for n in range(1, randvar_count)]\n\ndef s2(estimators):\n    result \u003d []\n    for dimention in estimators:\n        result.append([(dimention[:n]**2).mean() - dimention[:n].mean()**2 for n in range(1, randvar_count)])\n        \n    return result\n\ndef get_bootstrep_variance(distrubution, params):\n    bootstrep_samples \u003d get_param_bootstrep(distrubution, params)\n    [get_norm_estimator(sample) for sample in bootstrep_samples]\n\ndef get_estimators_via_moment_method():\n    distribs \u003d gen_distributions()\n    for distrib in distribs.items():\n        x \u003d [n for n in range(0, randvar_count)]\n        print(distrib[1][distribution_key])\n        plt.plot(x, distrib[1][distribution_key])\n        plt.show()\n\nget_estimators_via_moment_method()\n",
      "metadata": {
        "pycharm": {
          "metadata": false,
          "name": "#%%\n",
          "is_executing": false
        }
      }
    },
    {
      "cell_type": "markdown",
      "source": "$Beta(\\lambda_{1}, \\lambda_{2})$\n",
      "metadata": {
        "pycharm": {
          "metadata": false,
          "name": "#%% md\n"
        }
      }
    }
  ],
  "metadata": {
    "language_info": {
      "codemirror_mode": {
        "name": "ipython",
        "version": 2
      },
      "file_extension": ".py",
      "mimetype": "text/x-python",
      "name": "python",
      "nbconvert_exporter": "python",
      "pygments_lexer": "ipython2",
      "version": "2.7.6"
    },
    "kernelspec": {
      "name": "python3",
      "language": "python",
      "display_name": "Python 3"
    }
  },
  "nbformat": 4,
  "nbformat_minor": 0
}