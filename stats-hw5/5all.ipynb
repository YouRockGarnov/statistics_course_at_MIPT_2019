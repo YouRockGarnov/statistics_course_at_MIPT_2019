{
  "cells": [
    {
      "cell_type": "markdown",
      "source": "# Задача 2\n\nУсловие - https://drive.google.com/drive/u/0/folders/1M9yAtO8dXq0wgi_BRWO5movv0BDuGTua\n",
      "metadata": {
        "pycharm": {
          "metadata": false,
          "name": "#%% md\n"
        }
      }
    },
    {
      "cell_type": "code",
      "execution_count": 2,
      "metadata": {
        "collapsed": true,
        "pycharm": {
          "is_executing": false
        }
      },
      "outputs": [],
      "source": "import numpy as np\nimport matplotlib.pyplot as plt\nimport scipy.stats as sps\nimport pandas as pd\nfrom scipy.special import factorial\nimport warnings\n"
    },
    {
      "cell_type": "markdown",
      "source": "Приведём систему к следующему виду\n$\\beta_2 + \\epsilon_n \u003d \\beta_1 + \\epsilon_0 \\\\\nX_1 - X_0 \u003d \\beta_2 + \\epsilon_1 \\\\\nX_2 - X_1 \u003d \\beta_2 + \\epsilon_2 \\\\\n\\ldots \\\\\nX_n - X_{n-1} \u003d X_0$\n",
      "metadata": {
        "pycharm": {
          "metadata": false
        }
      }
    },
    {
      "cell_type": "markdown",
      "source": "Тогда $X \u003d \n\\begin{pmatrix}\nX_0 \\\\\nX_1 - X_0 \\\\ \n\\ldots \\\\\nX_n - X_{n-1}\n\\end{pmatrix}$\n\nСледовательно $Z \u003d \n\\begin{pmatrix}\n1 \u0026 0 \\\\\n0 \u0026 1 \\\\ \n\\ldots \\\\\n0 \u0026 1\n\\end{pmatrix}$\n",
      "metadata": {
        "pycharm": {
          "metadata": false
        }
      }
    },
    {
      "cell_type": "markdown",
      "source": "Считывание:",
      "metadata": {
        "pycharm": {
          "metadata": false
        }
      }
    },
    {
      "cell_type": "code",
      "execution_count": 46,
      "outputs": [
        {
          "data": {
            "text/plain": "[\u003cmatplotlib.lines.Line2D at 0x15b6330\u003e]"
          },
          "metadata": {},
          "output_type": "execute_result",
          "execution_count": 46
        },
        {
          "data": {
            "text/plain": "\u003cFigure size 864x576 with 1 Axes\u003e",
            "image/png": "[encoded data removed]"
          },
          "metadata": {
            "needs_background": "light"
          },
          "output_type": "display_data"
        }
      ],
      "source": "data \u003d pd.read_csv(\"regression.csv\", header\u003dNone, names\u003d[\"distance\"])\nsample \u003d np.array(data.values, dtype\u003dfloat)\n\nplt.figure(figsize\u003d(12, 8))\nplt.title(\u0027Визуализация расстояний, которые проехал трамвай\u0027)\nplt.xlabel(\u0027n\u0027)\nplt.ylabel(\u0027speed\u0027)\nplt.plot(np.arange(len(sample)), sample)\n",
      "metadata": {
        "pycharm": {
          "metadata": false,
          "name": "#%%\n",
          "is_executing": false
        }
      }
    },
    {
      "cell_type": "markdown",
      "source": "Создаём $X$ и $Z$:",
      "metadata": {
        "pycharm": {
          "metadata": false
        }
      }
    },
    {
      "cell_type": "code",
      "execution_count": 45,
      "outputs": [
        {
          "name": "stdout",
          "text": [
            "[[1 0]\n [0 1]\n [0 1]\n ...\n [0 1]\n [0 1]\n [0 1]]\n"
          ],
          "output_type": "stream"
        }
      ],
      "source": "X \u003d np.append(np.array(sample[0]), sample[1:] - np.roll(sample, 1)[1:])\nZ \u003d np.array([[1, 0]] + [[0, 1] for i in range(len(X) - 1)])\nprint(Z)",
      "metadata": {
        "pycharm": {
          "metadata": false,
          "name": "#%%\n",
          "is_executing": false
        }
      }
    },
    {
      "cell_type": "markdown",
      "source": "На семинаре доказывали, что оценка методом наименьших квадратов выглядит так:\n$\\hat{\\theta} \u003d \n\\begin{pmatrix}\nX_0 \\\\\n\\frac{X_n - X_0}{n}\n\\end{pmatrix}$\n",
      "metadata": {
        "pycharm": {
          "metadata": false
        }
      }
    },
    {
      "cell_type": "code",
      "execution_count": 38,
      "outputs": [
        {
          "name": "stdout",
          "text": [
            "beta1 :  82.0053\nbeta2 :  11.958812199999999\n"
          ],
          "output_type": "stream"
        }
      ],
      "source": "thetas \u003d np.array([sample[0][0], (sample[-1] - sample[0])[0] / (len(X))])\nprint(\"beta1 : \", thetas[0])\nprint(\"beta2 : \", thetas[1])\n",
      "metadata": {
        "pycharm": {
          "metadata": false,
          "name": "#%%\n",
          "is_executing": false
        }
      }
    },
    {
      "cell_type": "markdown",
      "source": "Несмещённая оценка:\n$$\\hat{\\sigma^2} \u003d \\frac{1}{n - 1} \\left|\\left|X - z\\hat{\\theta}\\right|\\right|^2$$",
      "metadata": {
        "pycharm": {
          "metadata": false
        }
      }
    },
    {
      "cell_type": "code",
      "execution_count": 48,
      "outputs": [
        {
          "name": "stdout",
          "text": [
            "Несмещённая оценка для sigma^2 :  1.5223375382162339\n"
          ],
          "output_type": "stream"
        }
      ],
      "source": "sigma \u003d np.linalg.norm(X - np.dot(Z, thetas)) ** 2 / (len(X)) \nprint(\"Несмещённая оценка для sigma^2 : \", sigma)\n",
      "metadata": {
        "pycharm": {
          "metadata": false,
          "name": "#%%\n",
          "is_executing": false
        }
      }
    },
    {
      "cell_type": "markdown",
      "source": "$\\epsilon_i \\sim N(0, \\sigma^2)$\n\n$\\epsilon_i^t \u003d \\frac{\\epsilon_i}{\\beta_2}$\n\nОценка дисперсии отсчета времени $\\theta_D \u003d \\frac{\\hat{\\sigma^2}}{\\beta_2^2}$",
      "metadata": {
        "pycharm": {
          "metadata": false
        }
      }
    },
    {
      "cell_type": "code",
      "execution_count": 40,
      "outputs": [
        {
          "name": "stdout",
          "text": [
            "thetaD :  0.010644735260858476\n"
          ],
          "output_type": "stream"
        }
      ],
      "source": "thetaD \u003d sigma / (thetas[1] ** 2)\nprint(\"thetaD : \", thetaD)\n",
      "metadata": {
        "pycharm": {
          "metadata": false,
          "name": "#%%\n",
          "is_executing": false
        }
      }
    },
    {
      "cell_type": "markdown",
      "source": "Итог - свели задачу к линейной модели, нашли оценку наименьших квадратов для $\\beta_1$ и $\\beta_2$, несмещённую оценку для $\\sigma^2$\nи выразили оценку дисперсии отсчёта времени. \n\nЛинейная регрессия хорошо работает для оценивания истинных значений вектора из случайных величин с разными распределениями по наблюдениям в линейной модели.",
      "metadata": {
        "pycharm": {
          "metadata": false
        }
      }
    }
  ],
  "metadata": {
    "language_info": {
      "codemirror_mode": {
        "name": "ipython",
        "version": 2
      },
      "file_extension": ".py",
      "mimetype": "text/x-python",
      "name": "python",
      "nbconvert_exporter": "python",
      "pygments_lexer": "ipython2",
      "version": "2.7.6"
    },
    "kernelspec": {
      "name": "python3",
      "language": "python",
      "display_name": "Python 3"
    },
    "stem_cell": {
      "cell_type": "raw",
      "source": "",
      "metadata": {
        "pycharm": {
          "metadata": false
        }
      }
    }
  },
  "nbformat": 4,
  "nbformat_minor": 0
}